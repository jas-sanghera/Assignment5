{
 "cells": [
  {
   "cell_type": "code",
   "execution_count": 1,
   "metadata": {},
   "outputs": [],
   "source": [
    "import numpy as np\n",
    "\n",
    "rng = np.random.default_rng()\n"
   ]
  },
  {
   "cell_type": "code",
   "execution_count": 2,
   "metadata": {},
   "outputs": [
    {
     "data": {
      "text/plain": [
       "array([1.        , 0.5       , 0.75      , 0.625     , 0.6875    ,\n",
       "       0.65625   , 0.671875  , 0.6640625 , 0.66796875])"
      ]
     },
     "execution_count": 2,
     "metadata": {},
     "output_type": "execute_result"
    }
   ],
   "source": [
    "# C is the values of the probability of landing on 1-9 by tossing a coin\n",
    "\n",
    "C = np.zeros(9)\n",
    "C[0], C[1]= 1, 1/2\n",
    "for i in range(2,len(C)):\n",
    "    C[i]=(C[i-1]+C[i-2])/2\n",
    "C"
   ]
  },
  {
   "cell_type": "code",
   "execution_count": 3,
   "metadata": {},
   "outputs": [
    {
     "data": {
      "text/plain": [
       "array([1.        , 0.33333333, 0.44444444, 0.59259259, 0.45679012,\n",
       "       0.49794239, 0.51577503, 0.49016918, 0.50129553])"
      ]
     },
     "execution_count": 3,
     "metadata": {},
     "output_type": "execute_result"
    }
   ],
   "source": [
    "# D is the values of the probability of landing on 1-9 by throwing a die\n",
    "\n",
    "\n",
    "D = np.zeros(9)\n",
    "D[0],D[1],D[2]=1,1/3,4/9\n",
    "for i in range(3,len(D)):\n",
    "    D[i]=(D[i-1]+D[i-2]+D[i-3])/3\n",
    "D"
   ]
  },
  {
   "cell_type": "code",
   "execution_count": 4,
   "metadata": {},
   "outputs": [],
   "source": [
    "def check(i,x):\n",
    "    while True:\n",
    "        if not (1<= i <= min(9-x,2)):\n",
    "            print(\"nope, choose again.\")\n",
    "            i = int(input('Your turn: How many spaces to move along? (1 or 2)?'))\n",
    "        else:\n",
    "            return i"
   ]
  },
  {
   "cell_type": "code",
   "execution_count": 5,
   "metadata": {},
   "outputs": [],
   "source": [
    "def game(myturn):\n",
    "    global X\n",
    "    if myturn == 1:\n",
    "        i = int(input('Your turn: How many spaces to move along (1 or 2)?'))\n",
    "        i = check(i,X)\n",
    "        X = X +i\n",
    "        print('Counter position is at ' f'{X}')\n",
    "        if X==9:\n",
    "            print('You win!')\n",
    "            return 0\n",
    "        game(0)\n",
    "    else:\n",
    "        y =  rng.integers(1, min(9-X,3))\n",
    "        print(f\"Bot's turn: {y} added\")\n",
    "        X = X + y\n",
    "        print('Counter position is at ' f'{X}')\n",
    "        if X==9:\n",
    "            print('You lose!')\n",
    "            return 0\n",
    "        game(1)"
   ]
  },
  {
   "cell_type": "code",
   "execution_count": 6,
   "metadata": {},
   "outputs": [
    {
     "name": "stdout",
     "output_type": "stream",
     "text": [
      "Counter position is 1\n"
     ]
    },
    {
     "name": "stdin",
     "output_type": "stream",
     "text": [
      "Your turn: How many spaces to move along (1 or 2)? 1\n"
     ]
    },
    {
     "name": "stdout",
     "output_type": "stream",
     "text": [
      "Counter position is at 2\n",
      "Bot's turn: 2 added\n",
      "Counter position is at 4\n"
     ]
    },
    {
     "name": "stdin",
     "output_type": "stream",
     "text": [
      "Your turn: How many spaces to move along (1 or 2)? 2\n"
     ]
    },
    {
     "name": "stdout",
     "output_type": "stream",
     "text": [
      "Counter position is at 6\n",
      "Bot's turn: 2 added\n",
      "Counter position is at 8\n"
     ]
    },
    {
     "name": "stdin",
     "output_type": "stream",
     "text": [
      "Your turn: How many spaces to move along (1 or 2)? 1\n"
     ]
    },
    {
     "name": "stdout",
     "output_type": "stream",
     "text": [
      "Counter position is at 9\n",
      "You win!\n"
     ]
    }
   ],
   "source": [
    "# a two player game played with \"bot\" who does not have a strategy. Winner is who lands on 9\n",
    "X = 1\n",
    "\n",
    "print('Counter position is ' f'{X}')       \n",
    "      \n",
    "myturn = 1 # 1 = player starts first, 0 = bot starts first\n",
    "game(myturn)"
   ]
  }
 ],
 "metadata": {
  "kernelspec": {
   "display_name": "Python 3",
   "language": "python",
   "name": "python3"
  },
  "language_info": {
   "codemirror_mode": {
    "name": "ipython",
    "version": 3
   },
   "file_extension": ".py",
   "mimetype": "text/x-python",
   "name": "python",
   "nbconvert_exporter": "python",
   "pygments_lexer": "ipython3",
   "version": "3.8.5"
  }
 },
 "nbformat": 4,
 "nbformat_minor": 4
}
